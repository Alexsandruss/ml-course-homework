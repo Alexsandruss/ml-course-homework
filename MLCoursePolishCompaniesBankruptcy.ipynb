{
 "cells": [
  {
   "cell_type": "markdown",
   "metadata": {},
   "source": [
    "# Polish companies bankruptcy data\n",
    "## https://archive.ics.uci.edu/ml/datasets/Polish+companies+bankruptcy+data\n",
    "Датасет содержит финансовые данные о польских компаниях, собранные с Emerging Markets Information Service (EMIS). Задача: предсказать банкротство компании."
   ]
  },
  {
   "cell_type": "code",
   "execution_count": 1,
   "metadata": {},
   "outputs": [],
   "source": [
    "# базовые импорты\n",
    "import pandas as pd\n",
    "import numpy as np\n",
    "import seaborn as sb\n",
    "import matplotlib.pyplot as plt\n",
    "import subprocess\n",
    "import warnings\n",
    "warnings.filterwarnings('ignore')"
   ]
  },
  {
   "cell_type": "code",
   "execution_count": 2,
   "metadata": {},
   "outputs": [],
   "source": [
    "# # загрузка датасета\n",
    "# !wget https://archive.ics.uci.edu/ml/machine-learning-databases/00365/data.zip\n",
    "# !unzip data.zip"
   ]
  },
  {
   "cell_type": "markdown",
   "metadata": {},
   "source": [
    "### Чтение и получение основных хар-к"
   ]
  },
  {
   "cell_type": "code",
   "execution_count": 3,
   "metadata": {},
   "outputs": [
    {
     "name": "stdout",
     "output_type": "stream",
     "text": [
      "Dataset files: ['1year.arff', '2year.arff', '3year.arff', '4year.arff', '5year.arff']\n"
     ]
    }
   ],
   "source": [
    "# получаем список файлов датасета\n",
    "r = subprocess.run(['ls'], stdout=subprocess.PIPE)\n",
    "all_files = str(r.stdout, encoding='utf-8')[:-1].split('\\n')\n",
    "data_files = []\n",
    "for el in all_files:\n",
    "    if el.endswith('.arff'):\n",
    "        data_files.append(el)\n",
    "print(\"Dataset files:\", data_files)"
   ]
  },
  {
   "cell_type": "markdown",
   "metadata": {},
   "source": [
    "Датасет состоит из пяти файлов:\n",
    "- 1year.arff содержит финансовые данные первого года из периода наблюдения и соотвествующих меток класса, которые сообщают о статусе банкротства через 5 лет (0 - компания продолжила работать, 1 - обанкротилась).\n",
    "- 2year.arff содержит данные второго года и статус банкротства через 4 года\n",
    "- 3year.arff содержит данные третьего года и статус банкротства через 3 года\n",
    "- и т.д.\n",
    "\n",
    "Файлы можно читать как обычный CSV, пропустив первые 69 строк.\n",
    "\n",
    "В этом ноутбуке будет использоваться файл 3year.arff.\n",
    "\n",
    "Описания/имена колонок были скопированы с описания датасета: https://archive.ics.uci.edu/ml/datasets/Polish+companies+bankruptcy+data"
   ]
  },
  {
   "cell_type": "code",
   "execution_count": 4,
   "metadata": {},
   "outputs": [],
   "source": [
    "columns = '''X1 net profit / total assets\n",
    "X2 total liabilities / total assets\n",
    "X3 working capital / total assets\n",
    "X4 current assets / short-term liabilities\n",
    "X5 [(cash + short-term securities + receivables - short-term liabilities) / (operating expenses - depreciation)] * 365\n",
    "X6 retained earnings / total assets\n",
    "X7 EBIT / total assets\n",
    "X8 book value of equity / total liabilities\n",
    "X9 sales / total assets\n",
    "X10 equity / total assets\n",
    "X11 (gross profit + extraordinary items + financial expenses) / total assets\n",
    "X12 gross profit / short-term liabilities\n",
    "X13 (gross profit + depreciation) / sales\n",
    "X14 (gross profit + interest) / total assets\n",
    "X15 (total liabilities * 365) / (gross profit + depreciation)\n",
    "X16 (gross profit + depreciation) / total liabilities\n",
    "X17 total assets / total liabilities\n",
    "X18 gross profit / total assets\n",
    "X19 gross profit / sales\n",
    "X20 (inventory * 365) / sales\n",
    "X21 sales (n) / sales (n-1)\n",
    "X22 profit on operating activities / total assets\n",
    "X23 net profit / sales\n",
    "X24 gross profit (in 3 years) / total assets\n",
    "X25 (equity - share capital) / total assets\n",
    "X26 (net profit + depreciation) / total liabilities\n",
    "X27 profit on operating activities / financial expenses\n",
    "X28 working capital / fixed assets\n",
    "X29 logarithm of total assets\n",
    "X30 (total liabilities - cash) / sales\n",
    "X31 (gross profit + interest) / sales\n",
    "X32 (current liabilities * 365) / cost of products sold\n",
    "X33 operating expenses / short-term liabilities\n",
    "X34 operating expenses / total liabilities\n",
    "X35 profit on sales / total assets\n",
    "X36 total sales / total assets\n",
    "X37 (current assets - inventories) / long-term liabilities\n",
    "X38 constant capital / total assets\n",
    "X39 profit on sales / sales\n",
    "X40 (current assets - inventory - receivables) / short-term liabilities\n",
    "X41 total liabilities / ((profit on operating activities + depreciation) * (12/365))\n",
    "X42 profit on operating activities / sales\n",
    "X43 rotation receivables + inventory turnover in days\n",
    "X44 (receivables * 365) / sales\n",
    "X45 net profit / inventory\n",
    "X46 (current assets - inventory) / short-term liabilities\n",
    "X47 (inventory * 365) / cost of products sold\n",
    "X48 EBITDA (profit on operating activities - depreciation) / total assets\n",
    "X49 EBITDA (profit on operating activities - depreciation) / sales\n",
    "X50 current assets / total liabilities\n",
    "X51 short-term liabilities / total assets\n",
    "X52 (short-term liabilities * 365) / cost of products sold)\n",
    "X53 equity / fixed assets\n",
    "X54 constant capital / fixed assets\n",
    "X55 working capital\n",
    "X56 (sales - cost of products sold) / sales\n",
    "X57 (current assets - inventory - short-term liabilities) / (sales - gross profit - depreciation)\n",
    "X58 total costs / total sales\n",
    "X59 long-term liabilities / equity\n",
    "X60 sales / inventory\n",
    "X61 sales / receivables\n",
    "X62 (short-term liabilities *365) / sales\n",
    "X63 sales / short-term liabilities\n",
    "X64 sales / fixed assets'''\n",
    "\n",
    "columns = [el[(3 + int(i >= 9)):] for i, el in enumerate(columns.split('\\n'))] + ['bankruptcy']"
   ]
  },
  {
   "cell_type": "code",
   "execution_count": 5,
   "metadata": {
    "scrolled": false
   },
   "outputs": [
    {
     "name": "stdout",
     "output_type": "stream",
     "text": [
      "Data shape: (10503, 65)\n"
     ]
    }
   ],
   "source": [
    "# чтение данных\n",
    "data = pd.read_csv(data_files[2], skiprows=69, header=None, names=columns, na_values='?', dtype=np.float64)\n",
    "data[['bankruptcy']] = data[['bankruptcy']].astype(np.int32)\n",
    "print('Data shape:', data.shape)"
   ]
  },
  {
   "cell_type": "markdown",
   "metadata": {},
   "source": [
    "Большинство фич датасета является отношением каких-либо двух финансовых показателей, исключениями являются logarithm of total assets (логарифм от общих активов) и working capital."
   ]
  },
  {
   "cell_type": "code",
   "execution_count": 6,
   "metadata": {},
   "outputs": [
    {
     "data": {
      "text/html": [
       "<div>\n",
       "<style scoped>\n",
       "    .dataframe tbody tr th:only-of-type {\n",
       "        vertical-align: middle;\n",
       "    }\n",
       "\n",
       "    .dataframe tbody tr th {\n",
       "        vertical-align: top;\n",
       "    }\n",
       "\n",
       "    .dataframe thead th {\n",
       "        text-align: right;\n",
       "    }\n",
       "</style>\n",
       "<table border=\"1\" class=\"dataframe\">\n",
       "  <thead>\n",
       "    <tr style=\"text-align: right;\">\n",
       "      <th></th>\n",
       "      <th>count</th>\n",
       "      <th>mean</th>\n",
       "      <th>std</th>\n",
       "      <th>min</th>\n",
       "      <th>25%</th>\n",
       "      <th>50%</th>\n",
       "      <th>75%</th>\n",
       "      <th>max</th>\n",
       "    </tr>\n",
       "  </thead>\n",
       "  <tbody>\n",
       "    <tr>\n",
       "      <th>net profit / total assets</th>\n",
       "      <td>10503.0</td>\n",
       "      <td>0.052844</td>\n",
       "      <td>0.647797</td>\n",
       "      <td>-1.769200e+01</td>\n",
       "      <td>0.000686</td>\n",
       "      <td>0.043034</td>\n",
       "      <td>0.123805</td>\n",
       "      <td>5.265200e+01</td>\n",
       "    </tr>\n",
       "    <tr>\n",
       "      <th>total liabilities / total assets</th>\n",
       "      <td>10503.0</td>\n",
       "      <td>0.619911</td>\n",
       "      <td>6.427041</td>\n",
       "      <td>0.000000e+00</td>\n",
       "      <td>0.253955</td>\n",
       "      <td>0.464140</td>\n",
       "      <td>0.689330</td>\n",
       "      <td>4.807300e+02</td>\n",
       "    </tr>\n",
       "    <tr>\n",
       "      <th>working capital / total assets</th>\n",
       "      <td>10503.0</td>\n",
       "      <td>0.095490</td>\n",
       "      <td>6.420056</td>\n",
       "      <td>-4.797300e+02</td>\n",
       "      <td>0.017461</td>\n",
       "      <td>0.198560</td>\n",
       "      <td>0.419545</td>\n",
       "      <td>1.770800e+01</td>\n",
       "    </tr>\n",
       "    <tr>\n",
       "      <th>current assets / short-term liabilities</th>\n",
       "      <td>10485.0</td>\n",
       "      <td>9.980499</td>\n",
       "      <td>523.691951</td>\n",
       "      <td>2.080200e-03</td>\n",
       "      <td>1.040100</td>\n",
       "      <td>1.605600</td>\n",
       "      <td>2.959500</td>\n",
       "      <td>5.343300e+04</td>\n",
       "    </tr>\n",
       "    <tr>\n",
       "      <th>[(cash + short-term securities + receivables - short-term liabilities) / (operating expenses - depreciation)] * 365</th>\n",
       "      <td>10478.0</td>\n",
       "      <td>-1347.662372</td>\n",
       "      <td>118580.569222</td>\n",
       "      <td>-1.190300e+07</td>\n",
       "      <td>-52.070750</td>\n",
       "      <td>1.579300</td>\n",
       "      <td>56.084000</td>\n",
       "      <td>6.854400e+05</td>\n",
       "    </tr>\n",
       "    <tr>\n",
       "      <th>retained earnings / total assets</th>\n",
       "      <td>10503.0</td>\n",
       "      <td>-0.121159</td>\n",
       "      <td>6.970625</td>\n",
       "      <td>-5.081200e+02</td>\n",
       "      <td>0.000000</td>\n",
       "      <td>0.000000</td>\n",
       "      <td>0.072584</td>\n",
       "      <td>4.553300e+01</td>\n",
       "    </tr>\n",
       "    <tr>\n",
       "      <th>EBIT / total assets</th>\n",
       "      <td>10503.0</td>\n",
       "      <td>0.065624</td>\n",
       "      <td>0.651152</td>\n",
       "      <td>-1.769200e+01</td>\n",
       "      <td>0.002118</td>\n",
       "      <td>0.050945</td>\n",
       "      <td>0.142275</td>\n",
       "      <td>5.265200e+01</td>\n",
       "    </tr>\n",
       "    <tr>\n",
       "      <th>book value of equity / total liabilities</th>\n",
       "      <td>10489.0</td>\n",
       "      <td>19.140113</td>\n",
       "      <td>717.756745</td>\n",
       "      <td>-2.081800e+00</td>\n",
       "      <td>0.431270</td>\n",
       "      <td>1.111000</td>\n",
       "      <td>2.857100</td>\n",
       "      <td>5.343200e+04</td>\n",
       "    </tr>\n",
       "    <tr>\n",
       "      <th>sales / total assets</th>\n",
       "      <td>10500.0</td>\n",
       "      <td>1.819254</td>\n",
       "      <td>7.581659</td>\n",
       "      <td>-1.215700e+00</td>\n",
       "      <td>1.011275</td>\n",
       "      <td>1.199000</td>\n",
       "      <td>2.059100</td>\n",
       "      <td>7.404400e+02</td>\n",
       "    </tr>\n",
       "    <tr>\n",
       "      <th>equity / total assets</th>\n",
       "      <td>10503.0</td>\n",
       "      <td>0.366093</td>\n",
       "      <td>6.428603</td>\n",
       "      <td>-4.797300e+02</td>\n",
       "      <td>0.297340</td>\n",
       "      <td>0.515500</td>\n",
       "      <td>0.725635</td>\n",
       "      <td>1.183700e+01</td>\n",
       "    </tr>\n",
       "    <tr>\n",
       "      <th>(gross profit + extraordinary items + financial expenses) / total assets</th>\n",
       "      <td>10503.0</td>\n",
       "      <td>0.086764</td>\n",
       "      <td>0.655407</td>\n",
       "      <td>-1.769200e+01</td>\n",
       "      <td>0.009809</td>\n",
       "      <td>0.068104</td>\n",
       "      <td>0.161090</td>\n",
       "      <td>5.265200e+01</td>\n",
       "    </tr>\n",
       "    <tr>\n",
       "      <th>gross profit / short-term liabilities</th>\n",
       "      <td>10485.0</td>\n",
       "      <td>2.411266</td>\n",
       "      <td>111.459642</td>\n",
       "      <td>-1.543800e+03</td>\n",
       "      <td>0.006183</td>\n",
       "      <td>0.155880</td>\n",
       "      <td>0.570340</td>\n",
       "      <td>8.259400e+03</td>\n",
       "    </tr>\n",
       "    <tr>\n",
       "      <th>(gross profit + depreciation) / sales</th>\n",
       "      <td>10460.0</td>\n",
       "      <td>0.376563</td>\n",
       "      <td>49.675550</td>\n",
       "      <td>-6.317100e+02</td>\n",
       "      <td>0.020740</td>\n",
       "      <td>0.066433</td>\n",
       "      <td>0.133612</td>\n",
       "      <td>4.972000e+03</td>\n",
       "    </tr>\n",
       "    <tr>\n",
       "      <th>(gross profit + interest) / total assets</th>\n",
       "      <td>10503.0</td>\n",
       "      <td>0.065634</td>\n",
       "      <td>0.651151</td>\n",
       "      <td>-1.769200e+01</td>\n",
       "      <td>0.002131</td>\n",
       "      <td>0.050953</td>\n",
       "      <td>0.142275</td>\n",
       "      <td>5.265200e+01</td>\n",
       "    </tr>\n",
       "    <tr>\n",
       "      <th>(total liabilities * 365) / (gross profit + depreciation)</th>\n",
       "      <td>10495.0</td>\n",
       "      <td>3004.332479</td>\n",
       "      <td>109198.119626</td>\n",
       "      <td>-2.321800e+06</td>\n",
       "      <td>186.595000</td>\n",
       "      <td>805.690000</td>\n",
       "      <td>2187.100000</td>\n",
       "      <td>1.023600e+07</td>\n",
       "    </tr>\n",
       "    <tr>\n",
       "      <th>(gross profit + depreciation) / total liabilities</th>\n",
       "      <td>10489.0</td>\n",
       "      <td>2.729654</td>\n",
       "      <td>110.233475</td>\n",
       "      <td>-2.043000e+02</td>\n",
       "      <td>0.060302</td>\n",
       "      <td>0.235140</td>\n",
       "      <td>0.643030</td>\n",
       "      <td>8.259400e+03</td>\n",
       "    </tr>\n",
       "    <tr>\n",
       "      <th>total assets / total liabilities</th>\n",
       "      <td>10489.0</td>\n",
       "      <td>20.511539</td>\n",
       "      <td>721.812766</td>\n",
       "      <td>-4.341100e-02</td>\n",
       "      <td>1.449200</td>\n",
       "      <td>2.152500</td>\n",
       "      <td>3.924300</td>\n",
       "      <td>5.343300e+04</td>\n",
       "    </tr>\n",
       "    <tr>\n",
       "      <th>gross profit / total assets</th>\n",
       "      <td>10503.0</td>\n",
       "      <td>0.070739</td>\n",
       "      <td>0.835328</td>\n",
       "      <td>-1.769200e+01</td>\n",
       "      <td>0.002131</td>\n",
       "      <td>0.050953</td>\n",
       "      <td>0.142285</td>\n",
       "      <td>5.368900e+01</td>\n",
       "    </tr>\n",
       "    <tr>\n",
       "      <th>gross profit / sales</th>\n",
       "      <td>10460.0</td>\n",
       "      <td>-0.170778</td>\n",
       "      <td>11.210201</td>\n",
       "      <td>-7.716500e+02</td>\n",
       "      <td>0.001648</td>\n",
       "      <td>0.032117</td>\n",
       "      <td>0.087582</td>\n",
       "      <td>1.239400e+02</td>\n",
       "    </tr>\n",
       "    <tr>\n",
       "      <th>(inventory * 365) / sales</th>\n",
       "      <td>10460.0</td>\n",
       "      <td>68.448531</td>\n",
       "      <td>1083.699904</td>\n",
       "      <td>-1.438600e-03</td>\n",
       "      <td>14.253750</td>\n",
       "      <td>34.432500</td>\n",
       "      <td>63.698250</td>\n",
       "      <td>9.160000e+04</td>\n",
       "    </tr>\n",
       "  </tbody>\n",
       "</table>\n",
       "</div>"
      ],
      "text/plain": [
       "                                                      count         mean  \\\n",
       "net profit / total assets                           10503.0     0.052844   \n",
       "total liabilities / total assets                    10503.0     0.619911   \n",
       "working capital / total assets                      10503.0     0.095490   \n",
       "current assets / short-term liabilities             10485.0     9.980499   \n",
       "[(cash + short-term securities + receivables - ...  10478.0 -1347.662372   \n",
       "retained earnings / total assets                    10503.0    -0.121159   \n",
       "EBIT / total assets                                 10503.0     0.065624   \n",
       "book value of equity / total liabilities            10489.0    19.140113   \n",
       "sales / total assets                                10500.0     1.819254   \n",
       "equity / total assets                               10503.0     0.366093   \n",
       "(gross profit + extraordinary items + financial...  10503.0     0.086764   \n",
       "gross profit / short-term liabilities               10485.0     2.411266   \n",
       "(gross profit + depreciation) / sales               10460.0     0.376563   \n",
       "(gross profit + interest) / total assets            10503.0     0.065634   \n",
       "(total liabilities * 365) / (gross profit + dep...  10495.0  3004.332479   \n",
       "(gross profit + depreciation) / total liabilities   10489.0     2.729654   \n",
       "total assets / total liabilities                    10489.0    20.511539   \n",
       "gross profit / total assets                         10503.0     0.070739   \n",
       "gross profit / sales                                10460.0    -0.170778   \n",
       "(inventory * 365) / sales                           10460.0    68.448531   \n",
       "\n",
       "                                                              std  \\\n",
       "net profit / total assets                                0.647797   \n",
       "total liabilities / total assets                         6.427041   \n",
       "working capital / total assets                           6.420056   \n",
       "current assets / short-term liabilities                523.691951   \n",
       "[(cash + short-term securities + receivables - ...  118580.569222   \n",
       "retained earnings / total assets                         6.970625   \n",
       "EBIT / total assets                                      0.651152   \n",
       "book value of equity / total liabilities               717.756745   \n",
       "sales / total assets                                     7.581659   \n",
       "equity / total assets                                    6.428603   \n",
       "(gross profit + extraordinary items + financial...       0.655407   \n",
       "gross profit / short-term liabilities                  111.459642   \n",
       "(gross profit + depreciation) / sales                   49.675550   \n",
       "(gross profit + interest) / total assets                 0.651151   \n",
       "(total liabilities * 365) / (gross profit + dep...  109198.119626   \n",
       "(gross profit + depreciation) / total liabilities      110.233475   \n",
       "total assets / total liabilities                       721.812766   \n",
       "gross profit / total assets                              0.835328   \n",
       "gross profit / sales                                    11.210201   \n",
       "(inventory * 365) / sales                             1083.699904   \n",
       "\n",
       "                                                             min         25%  \\\n",
       "net profit / total assets                          -1.769200e+01    0.000686   \n",
       "total liabilities / total assets                    0.000000e+00    0.253955   \n",
       "working capital / total assets                     -4.797300e+02    0.017461   \n",
       "current assets / short-term liabilities             2.080200e-03    1.040100   \n",
       "[(cash + short-term securities + receivables - ... -1.190300e+07  -52.070750   \n",
       "retained earnings / total assets                   -5.081200e+02    0.000000   \n",
       "EBIT / total assets                                -1.769200e+01    0.002118   \n",
       "book value of equity / total liabilities           -2.081800e+00    0.431270   \n",
       "sales / total assets                               -1.215700e+00    1.011275   \n",
       "equity / total assets                              -4.797300e+02    0.297340   \n",
       "(gross profit + extraordinary items + financial... -1.769200e+01    0.009809   \n",
       "gross profit / short-term liabilities              -1.543800e+03    0.006183   \n",
       "(gross profit + depreciation) / sales              -6.317100e+02    0.020740   \n",
       "(gross profit + interest) / total assets           -1.769200e+01    0.002131   \n",
       "(total liabilities * 365) / (gross profit + dep... -2.321800e+06  186.595000   \n",
       "(gross profit + depreciation) / total liabilities  -2.043000e+02    0.060302   \n",
       "total assets / total liabilities                   -4.341100e-02    1.449200   \n",
       "gross profit / total assets                        -1.769200e+01    0.002131   \n",
       "gross profit / sales                               -7.716500e+02    0.001648   \n",
       "(inventory * 365) / sales                          -1.438600e-03   14.253750   \n",
       "\n",
       "                                                           50%          75%  \\\n",
       "net profit / total assets                             0.043034     0.123805   \n",
       "total liabilities / total assets                      0.464140     0.689330   \n",
       "working capital / total assets                        0.198560     0.419545   \n",
       "current assets / short-term liabilities               1.605600     2.959500   \n",
       "[(cash + short-term securities + receivables - ...    1.579300    56.084000   \n",
       "retained earnings / total assets                      0.000000     0.072584   \n",
       "EBIT / total assets                                   0.050945     0.142275   \n",
       "book value of equity / total liabilities              1.111000     2.857100   \n",
       "sales / total assets                                  1.199000     2.059100   \n",
       "equity / total assets                                 0.515500     0.725635   \n",
       "(gross profit + extraordinary items + financial...    0.068104     0.161090   \n",
       "gross profit / short-term liabilities                 0.155880     0.570340   \n",
       "(gross profit + depreciation) / sales                 0.066433     0.133612   \n",
       "(gross profit + interest) / total assets              0.050953     0.142275   \n",
       "(total liabilities * 365) / (gross profit + dep...  805.690000  2187.100000   \n",
       "(gross profit + depreciation) / total liabilities     0.235140     0.643030   \n",
       "total assets / total liabilities                      2.152500     3.924300   \n",
       "gross profit / total assets                           0.050953     0.142285   \n",
       "gross profit / sales                                  0.032117     0.087582   \n",
       "(inventory * 365) / sales                            34.432500    63.698250   \n",
       "\n",
       "                                                             max  \n",
       "net profit / total assets                           5.265200e+01  \n",
       "total liabilities / total assets                    4.807300e+02  \n",
       "working capital / total assets                      1.770800e+01  \n",
       "current assets / short-term liabilities             5.343300e+04  \n",
       "[(cash + short-term securities + receivables - ...  6.854400e+05  \n",
       "retained earnings / total assets                    4.553300e+01  \n",
       "EBIT / total assets                                 5.265200e+01  \n",
       "book value of equity / total liabilities            5.343200e+04  \n",
       "sales / total assets                                7.404400e+02  \n",
       "equity / total assets                               1.183700e+01  \n",
       "(gross profit + extraordinary items + financial...  5.265200e+01  \n",
       "gross profit / short-term liabilities               8.259400e+03  \n",
       "(gross profit + depreciation) / sales               4.972000e+03  \n",
       "(gross profit + interest) / total assets            5.265200e+01  \n",
       "(total liabilities * 365) / (gross profit + dep...  1.023600e+07  \n",
       "(gross profit + depreciation) / total liabilities   8.259400e+03  \n",
       "total assets / total liabilities                    5.343300e+04  \n",
       "gross profit / total assets                         5.368900e+01  \n",
       "gross profit / sales                                1.239400e+02  \n",
       "(inventory * 365) / sales                           9.160000e+04  "
      ]
     },
     "execution_count": 6,
     "metadata": {},
     "output_type": "execute_result"
    }
   ],
   "source": [
    "# описание первых двадцати фич\n",
    "data.describe().T[:20]"
   ]
  },
  {
   "cell_type": "markdown",
   "metadata": {},
   "source": [
    "Наблюдается большой дисбаланс между классами "
   ]
  },
  {
   "cell_type": "code",
   "execution_count": 7,
   "metadata": {},
   "outputs": [
    {
     "name": "stdout",
     "output_type": "stream",
     "text": [
      "bankruptcy\n",
      "0             10008\n",
      "1               495\n",
      "dtype: int64\n",
      "Процент обанкротившихся компаний: 4.712939160239932\n"
     ]
    }
   ],
   "source": [
    "cls_count = data[['bankruptcy']].value_counts()\n",
    "print(cls_count)\n",
    "print('Процент обанкротившихся компаний:', int(cls_count[1]) / (sum(cls_count)) * 100)"
   ]
  },
  {
   "cell_type": "markdown",
   "metadata": {},
   "source": [
    "Построим матрицу корреляции, но только для двадцати фич, у которых сумма квадратов корреляции максимальна, т.к. все 64 не влезут в рисунок.\n",
    "В основном, коррелируют только пары фич, которые связаны общими фин. показателями в отношении."
   ]
  },
  {
   "cell_type": "code",
   "execution_count": 8,
   "metadata": {},
   "outputs": [
    {
     "data": {
      "image/png": "[encoded data removed]",
      "text/plain": [
       "<Figure size 432x288 with 2 Axes>"
      ]
     },
     "metadata": {
      "needs_background": "light"
     },
     "output_type": "display_data"
    }
   ],
   "source": [
    "# будем исключать корреляции пар фич, которые базируются на хотя бы одном одинаковом фин. показателе\n",
    "def cols_has_same_fin_rate(col_1, col_2):\n",
    "    col_1, col_2 = set(col_1.split(' / ')), set(col_2.split(' / '))\n",
    "    if len(col_1.union(col_2)) > 0:\n",
    "        return True\n",
    "    else:\n",
    "        return False\n",
    "\n",
    "\n",
    "def build_corr_matrix(data_frame):\n",
    "    corr_matrix = data_frame.corr()\n",
    "    corr_sums = {}\n",
    "    for col_i in list(data_frame.columns):\n",
    "        corr_sum = 0\n",
    "        for col_j in list(data_frame.columns):\n",
    "            if col_i == col_j or cols_has_same_fin_rate(col_i, col_j):\n",
    "                continue\n",
    "            corr_sum += corr_matrix[col_j][col_i] ** 2\n",
    "        corr_sums.update({col_i: corr_sum})\n",
    "    corr_sums = dict(sorted(corr_sums.items(), key=lambda x: x[1])[::-1])\n",
    "    selected_features = list(corr_sums.keys())[:20]\n",
    "    sb.heatmap(corr_matrix.loc[selected_features, selected_features], square=True, cmap='coolwarm')\n",
    "\n",
    "\n",
    "build_corr_matrix(data)"
   ]
  },
  {
   "cell_type": "markdown",
   "metadata": {},
   "source": [
    "В датасете присутствуют NaN'ы, причем в некоторых фичах их кол-во доходит почти до половины от всех значений."
   ]
  },
  {
   "cell_type": "code",
   "execution_count": 9,
   "metadata": {},
   "outputs": [
    {
     "name": "stdout",
     "output_type": "stream",
     "text": [
      "NaN count in features:\n",
      "[0, 0, 0, 18, 25, 0, 0, 14, 3, 0, 0, 18, 43, 0, 8, 14, 14, 0, 43, 43, 807, 0, 43, 227, 0, 14, 715, 228, 0, 43, 43, 101, 18, 14, 0, 0, 4736, 0, 43, 18, 202, 43, 43, 43, 591, 18, 86, 0, 43, 14, 0, 86, 228, 228, 0, 43, 0, 29, 0, 592, 17, 43, 18, 228, 0]\n"
     ]
    }
   ],
   "source": [
    "def print_df_nan_counts(data_frame):\n",
    "    print([sum(data_frame[col].isna()) for col in list(data_frame.columns)])\n",
    "\n",
    "print('NaN count in features:')\n",
    "print_df_nan_counts(data)"
   ]
  },
  {
   "cell_type": "markdown",
   "metadata": {},
   "source": [
    "Заполняем NaN'ы медианами"
   ]
  },
  {
   "cell_type": "code",
   "execution_count": 10,
   "metadata": {},
   "outputs": [],
   "source": [
    "data.fillna(data.median(axis=0), axis=0, inplace=True)"
   ]
  },
  {
   "cell_type": "markdown",
   "metadata": {},
   "source": [
    "Т.к. большинство признаков безразмерны, а для kNN c Евклидовой дистанцией лучше избавиться от большого разброса значений между фичами, проведем нормализацию."
   ]
  },
  {
   "cell_type": "code",
   "execution_count": 11,
   "metadata": {},
   "outputs": [],
   "source": [
    "y = data[['bankruptcy']]\n",
    "data = data.drop(columns=['bankruptcy'])\n",
    "norm_data = (data - data.mean(axis = 0)) / data.std(axis = 0)"
   ]
  },
  {
   "cell_type": "markdown",
   "metadata": {},
   "source": [
    "Разделим датасет на тренировочную и тестовую выборки.\n",
    "Для оченки точности алгоритмов машинного обучения будем считать false negatives (когда банкротство не было предугадано) и false positives (когда выжившая компания была оценена как обанкроченная)"
   ]
  },
  {
   "cell_type": "code",
   "execution_count": 12,
   "metadata": {},
   "outputs": [],
   "source": [
    "from sklearn.model_selection import train_test_split\n",
    "\n",
    "def train_predict(alg_instance, data_frame, y, test_size=0.33, not_print=False):\n",
    "    x, y = data_frame, y\n",
    "    train_x, test_x, train_y, test_y = train_test_split(x, y, test_size=test_size, random_state=42)\n",
    "    alg_instance.fit(train_x, train_y)\n",
    "    pred_y = alg_instance.predict(test_x)\n",
    "    test_y = test_y.to_numpy().ravel()\n",
    "    false_neg_acc = 0\n",
    "    false_pos_acc = 0\n",
    "    for i in range(test_y.shape[0]):\n",
    "        if test_y[i] == 1 and pred_y[i] == 0:\n",
    "            false_neg_acc += 1\n",
    "        if test_y[i] == 0 and pred_y[i] == 1:\n",
    "            false_pos_acc += 1\n",
    "    if not not_print:\n",
    "        print('{} false negatives of {} possible'.format(\n",
    "            false_neg_acc, int(test_y.mean() * test_y.shape[0])))\n",
    "        print('{} false positives of {} possible'.format(\n",
    "            false_pos_acc, int(test_y.shape[0] - test_y.mean() * test_y.shape[0])))\n",
    "    return false_neg_acc, int(test_y.mean() * test_y.shape[0]),\\\n",
    "           false_pos_acc, int(test_y.shape[0] - test_y.mean() * test_y.shape[0])"
   ]
  },
  {
   "cell_type": "markdown",
   "metadata": {},
   "source": [
    "Как видно, kNN плохо подходит для решения задачи при любом кол-ве соседей, т.к. предсказанных банкротств очень мало или вообще нет"
   ]
  },
  {
   "cell_type": "code",
   "execution_count": 13,
   "metadata": {},
   "outputs": [
    {
     "name": "stdout",
     "output_type": "stream",
     "text": [
      "Maximum possible false negatives:  164\n"
     ]
    },
    {
     "data": {
      "text/plain": [
       "<matplotlib.legend.Legend at 0x7feb6825e8b0>"
      ]
     },
     "execution_count": 13,
     "metadata": {},
     "output_type": "execute_result"
    },
    {
     "data": {
      "image/png": "[encoded data removed]",
      "text/plain": [
       "<Figure size 432x288 with 1 Axes>"
      ]
     },
     "metadata": {
      "needs_background": "light"
     },
     "output_type": "display_data"
    }
   ],
   "source": [
    "from sklearn.neighbors import KNeighborsClassifier\n",
    "\n",
    "ks = [1, 5, 16, 64, 128, 256, 512]\n",
    "false_negs = []\n",
    "for k in ks:\n",
    "    knn = KNeighborsClassifier(n_neighbors=k)\n",
    "    false_neg, possible_false_neg, _, _ = train_predict(knn, norm_data, y, not_print=True)\n",
    "    false_negs.append(false_neg)\n",
    "\n",
    "print('Maximum possible false negatives: ', possible_false_neg)\n",
    "plt.plot(ks, false_negs, '.-m', label = 'False negatives')\n",
    "plt.legend(loc = 'best')"
   ]
  },
  {
   "cell_type": "markdown",
   "metadata": {},
   "source": [
    "Даже использование гораздо более сложных случайного леса и градиентного бустинга не дает хорошие результаты"
   ]
  },
  {
   "cell_type": "code",
   "execution_count": 14,
   "metadata": {},
   "outputs": [
    {
     "name": "stdout",
     "output_type": "stream",
     "text": [
      "RandomForestClassifier results:\n",
      "156 false negatives of 164 possible\n",
      "5 false positives of 3302 possible\n",
      "\n",
      "GradientBoostingClassifier results:\n",
      "101 false negatives of 164 possible\n",
      "6 false positives of 3302 possible\n",
      "\n"
     ]
    }
   ],
   "source": [
    "from sklearn.experimental import enable_hist_gradient_boosting\n",
    "from sklearn.ensemble import HistGradientBoostingClassifier as GBT\n",
    "from sklearn.ensemble import RandomForestClassifier as RF\n",
    "\n",
    "rf = RF()\n",
    "gbt = GBT()\n",
    "\n",
    "print('RandomForestClassifier results:')\n",
    "train_predict(rf, data, y)\n",
    "print('')\n",
    "\n",
    "print('GradientBoostingClassifier results:')\n",
    "train_predict(gbt, data, y)\n",
    "print('')"
   ]
  },
  {
   "cell_type": "markdown",
   "metadata": {},
   "source": [
    "## Little feature engineering or information gain"
   ]
  },
  {
   "cell_type": "markdown",
   "metadata": {},
   "source": [
    "Для того, чтобы улучшить результаты, можно попробовать получить еще немного информации из исходных данных:\n",
    "\n",
    "Если многие фичи являются отношениями фин. показателей, то можно из этих отношений получить новые, т.е. из a/b и c/b получить a/с."
   ]
  },
  {
   "cell_type": "code",
   "execution_count": 15,
   "metadata": {},
   "outputs": [
    {
     "name": "stdout",
     "output_type": "stream",
     "text": [
      "Размер нового дата фрейма: (10503, 522)\n"
     ]
    }
   ],
   "source": [
    "def gen_new_columns(col1, col2):\n",
    "    col1, col2 = col1.split(' / '), col2.split(' / ')\n",
    "    if len(col1) != 2 or len(col2) != 2:\n",
    "        return ''\n",
    "    if col1[1] == col2[1]:\n",
    "        return col1[0] + ' / ' + col2[0]\n",
    "    return ''\n",
    "\n",
    "ext_data = data.copy()\n",
    "\n",
    "for i, el_i in enumerate(columns):\n",
    "    for j, el_j in enumerate(columns):\n",
    "        if i == j:\n",
    "            continue\n",
    "        new_col = gen_new_columns(el_i, el_j)\n",
    "        if new_col != '':\n",
    "            ext_data[new_col] = ext_data[el_i] / ext_data[el_j]\n",
    "\n",
    "ext_data.fillna(ext_data.median(axis=0), axis=0, inplace=True)\n",
    "\n",
    "print('Размер нового дата фрейма:', ext_data.shape)"
   ]
  },
  {
   "cell_type": "markdown",
   "metadata": {},
   "source": [
    "Теперь результаты градиентного бустинга стали гораздо лучше"
   ]
  },
  {
   "cell_type": "code",
   "execution_count": 16,
   "metadata": {},
   "outputs": [
    {
     "name": "stdout",
     "output_type": "stream",
     "text": [
      "GradientBoostingClassifier results:\n",
      "22 false negatives of 164 possible\n",
      "0 false positives of 3302 possible\n",
      "\n"
     ]
    }
   ],
   "source": [
    "print('GradientBoostingClassifier results:')\n",
    "train_predict(gbt, ext_data, y)\n",
    "print('')"
   ]
  },
  {
   "cell_type": "markdown",
   "metadata": {},
   "source": [
    "## PCA"
   ]
  },
  {
   "cell_type": "markdown",
   "metadata": {},
   "source": [
    "Сократим размерность до двух признаков"
   ]
  },
  {
   "cell_type": "code",
   "execution_count": 17,
   "metadata": {},
   "outputs": [],
   "source": [
    "from sklearn.decomposition import PCA\n",
    "\n",
    "pca = PCA(n_components=2)\n",
    "new_data = pca.fit_transform(norm_data)"
   ]
  },
  {
   "cell_type": "code",
   "execution_count": 18,
   "metadata": {},
   "outputs": [
    {
     "data": {
      "text/plain": [
       "<matplotlib.collections.PathCollection at 0x7feb68f6eac0>"
      ]
     },
     "execution_count": 18,
     "metadata": {},
     "output_type": "execute_result"
    },
    {
     "data": {
      "image/png": "[encoded data removed]",
      "text/plain": [
       "<Figure size 432x288 with 1 Axes>"
      ]
     },
     "metadata": {
      "needs_background": "light"
     },
     "output_type": "display_data"
    }
   ],
   "source": [
    "colors = ['r' if yy == 1 else 'b' for yy in y.values]\n",
    "plt.scatter(new_data[:, 0], new_data[:, 1], color=colors, alpha=0.25)"
   ]
  },
  {
   "cell_type": "markdown",
   "metadata": {},
   "source": [
    "SVM так же не является хорошим решение для задачи"
   ]
  },
  {
   "cell_type": "code",
   "execution_count": 19,
   "metadata": {},
   "outputs": [
    {
     "name": "stdout",
     "output_type": "stream",
     "text": [
      "164 false negatives of 164 possible\n",
      "0 false positives of 3302 possible\n"
     ]
    },
    {
     "data": {
      "text/plain": [
       "(164, 164, 0, 3302)"
      ]
     },
     "execution_count": 19,
     "metadata": {},
     "output_type": "execute_result"
    }
   ],
   "source": [
    "from sklearn.svm import SVC\n",
    "\n",
    "svc = SVC(kernel='rbf')\n",
    "train_predict(svc, new_data, y)"
   ]
  },
  {
   "cell_type": "markdown",
   "metadata": {},
   "source": [
    "Попробуем варьировать число компонент, при этом смотря на точность решения задачи градиентным бустингом"
   ]
  },
  {
   "cell_type": "code",
   "execution_count": 20,
   "metadata": {},
   "outputs": [
    {
     "data": {
      "text/plain": [
       "<matplotlib.legend.Legend at 0x7feb68f2e070>"
      ]
     },
     "execution_count": 20,
     "metadata": {},
     "output_type": "execute_result"
    },
    {
     "data": {
      "image/png": "[encoded data removed]",
      "text/plain": [
       "<Figure size 432x288 with 1 Axes>"
      ]
     },
     "metadata": {
      "needs_background": "light"
     },
     "output_type": "display_data"
    }
   ],
   "source": [
    "n_comps = list(range(2, norm_data.shape[1] - 2, 2))\n",
    "false_negs = []\n",
    "for nc in n_comps:\n",
    "    pca = PCA(n_components=nc)\n",
    "    new_data = pca.fit_transform(data)\n",
    "    false_neg, possible_false_neg, _, _ = train_predict(gbt, new_data, y, not_print=True)\n",
    "    false_negs.append(false_neg)\n",
    "\n",
    "plt.plot(n_comps, false_negs, '.-m', label = 'False negatives')\n",
    "plt.legend(loc = 'best')"
   ]
  },
  {
   "cell_type": "code",
   "execution_count": null,
   "metadata": {},
   "outputs": [],
   "source": []
  }
 ],
 "metadata": {
  "kernelspec": {
   "display_name": "Python 3",
   "language": "python",
   "name": "python3"
  },
  "language_info": {
   "codemirror_mode": {
    "name": "ipython",
    "version": 3
   },
   "file_extension": ".py",
   "mimetype": "text/x-python",
   "name": "python",
   "nbconvert_exporter": "python",
   "pygments_lexer": "ipython3",
   "version": "3.8.6"
  }
 },
 "nbformat": 4,
 "nbformat_minor": 4
}
